{
 "cells": [
  {
   "cell_type": "code",
   "execution_count": 1,
   "metadata": {},
   "outputs": [],
   "source": [
    "import pandas\n",
    "from qpropy import QuestionProClient, SurveyCreator\n",
    "from test_survey_create_data import survey_data"
   ]
  },
  {
   "cell_type": "code",
   "execution_count": 2,
   "metadata": {},
   "outputs": [],
   "source": [
    "api_key = \"61d15ae9-8995-4f6b-88ac-3a66e752a3cc\"\n",
    "client = QuestionProClient(\n",
    "    api_key=api_key\n",
    ")\n",
    "client.organization_id = 5565249\n",
    "client.user_id = 5732828\n",
    "# client.survey_id = 12854504\n"
   ]
  },
  {
   "cell_type": "code",
   "execution_count": 3,
   "metadata": {},
   "outputs": [],
   "source": [
    "folder_id = 6409075\n",
    "survey_creator = SurveyCreator(client)\n",
    "survey_creator.create_survey(\"TEST_2\", folder_id)\n"
   ]
  },
  {
   "cell_type": "code",
   "execution_count": 4,
   "metadata": {},
   "outputs": [],
   "source": [
    "survey_creator.create_survey_data(survey_data)"
   ]
  },
  {
   "cell_type": "code",
   "execution_count": 32,
   "metadata": {},
   "outputs": [
    {
     "data": {
      "text/plain": [
       "{'surveyID': 12854604,\n",
       " 'ownerID': 5732828,\n",
       " 'folderID': 6409075,\n",
       " 'name': 'abc',\n",
       " 'url': 'https://insightasia.questionpro.com/t/AaPpxZ5nmN',\n",
       " 'status': 'Active',\n",
       " 'creationDate': '17 Mar, 2025 02:00:00 PM ICT',\n",
       " 'modifiedDate': '17 Mar, 2025 04:20:49 PM ICT',\n",
       " 'thankYouMessage': 'Thank you for completing this survey.',\n",
       " 'responseQuota': 0,\n",
       " 'expiryDate': '',\n",
       " 'inactiveText': 'This Survey has been deactivated by the owner.',\n",
       " 'abbs': False,\n",
       " 'saveAndContinue': False,\n",
       " 'surveyFinishMode': 15,\n",
       " 'completedText': '<div style=\"text-align: center;\">Thank you for completing this survey.</div>',\n",
       " 'terminatedText': '<div style=\"text-align: center;\">Your profile does not fit our criteria. Thank you for your time.</div>',\n",
       " 'quotaOverlimitText': '<div style=\"text-align: center;\">Thank you for your time but we have already received the required responses.</div>',\n",
       " 'hasScoringLogic': False,\n",
       " 'completedResponses': 0,\n",
       " 'viewedResponses': 0,\n",
       " 'startedResponses': 0,\n",
       " 'terminatedResponses': 0,\n",
       " 'lastResponseReceived': '',\n",
       " 'surveyLanguages': [{'languageID': 0,\n",
       "   'name': 'English',\n",
       "   'contents': None,\n",
       "   'default': True}]}"
      ]
     },
     "execution_count": 32,
     "metadata": {},
     "output_type": "execute_result"
    }
   ],
   "source": [
    "survey_creator.update_survey_data({\"name\": \"abc\"})"
   ]
  },
  {
   "cell_type": "code",
   "execution_count": null,
   "metadata": {},
   "outputs": [],
   "source": []
  }
 ],
 "metadata": {
  "kernelspec": {
   "display_name": "venv",
   "language": "python",
   "name": "python3"
  },
  "language_info": {
   "codemirror_mode": {
    "name": "ipython",
    "version": 3
   },
   "file_extension": ".py",
   "mimetype": "text/x-python",
   "name": "python",
   "nbconvert_exporter": "python",
   "pygments_lexer": "ipython3",
   "version": "3.13.1"
  }
 },
 "nbformat": 4,
 "nbformat_minor": 2
}
